{
 "cells": [
  {
   "cell_type": "markdown",
   "metadata": {},
   "source": [
    "# error en absoluto\n",
    "\n",
    "el error absoluto\n"
   ]
  },
  {
   "cell_type": "markdown",
   "metadata": {},
   "source": [
    "$e_{abs} = |v_{exacto} - v_{aprox}|$"
   ]
  },
  {
   "cell_type": "markdown",
   "metadata": {},
   "source": [
    "determina el error absoluto del panecillo y la cirugia \n",
    "\n",
    "PANECILLO\n",
    "- $V_E = 12.5cm$\n",
    "- $V_A =12.6cm$\n",
    "\n",
    "CIRUGIA\n",
    "- $V_E = 0.4cm$\n",
    "- $V_A = 0.3cm$"
   ]
  },
  {
   "cell_type": "code",
   "execution_count": null,
   "metadata": {},
   "outputs": [],
   "source": [
    "# Datos del panecillo\n",
    "$v_exacto_pan = 12.5$\n",
    "$v_aprox_pan = 12.6$\n",
    "\n",
    "# Datos de la cirugia \n",
    "$v_exacto_cirugia = 0.4$\n",
    "$v_aprox_cirugia = 0.3\n",
    "\n",
    "# Resultado final\n",
    "- e_abs_pan = abs (v_exacto_pan - v_aprox_pan)\n",
    "- e_abs_cirugia = abs (v_ecacto_cirugia - v_aprox_cirugia)\n",
    "\n",
    "print(\"Error absoluto del panecillo\")\n",
    "print(e_abs_pan)\n"
   ]
  }
 ],
 "metadata": {
  "language_info": {
   "name": "python"
  }
 },
 "nbformat": 4,
 "nbformat_minor": 2
}
